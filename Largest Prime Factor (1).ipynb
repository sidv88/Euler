{
 "cells": [
  {
   "cell_type": "code",
   "execution_count": 1,
   "metadata": {},
   "outputs": [
    {
     "name": "stdout",
     "output_type": "stream",
     "text": [
      "6857.0\n"
     ]
    }
   ],
   "source": [
    "def findLargestPrimeFactor(n):\n",
    "    primeFactor = 1\n",
    "    i = 2\n",
    "\n",
    "    while i <= n / i:\n",
    "        if n % i == 0:\n",
    "            primeFactor = i\n",
    "            n /= i\n",
    "        else:\n",
    "            i += 1\n",
    "\n",
    "    if primeFactor < n:\n",
    "        primeFactor = n\n",
    "\n",
    "    return primeFactor\n",
    "\n",
    "print(findLargestPrimeFactor(600851475143))"
   ]
  },
  {
   "cell_type": "code",
   "execution_count": null,
   "metadata": {},
   "outputs": [],
   "source": []
  }
 ],
 "metadata": {
  "kernelspec": {
   "display_name": "Python [default]",
   "language": "python",
   "name": "python3"
  },
  "language_info": {
   "codemirror_mode": {
    "name": "ipython",
    "version": 3
   },
   "file_extension": ".py",
   "mimetype": "text/x-python",
   "name": "python",
   "nbconvert_exporter": "python",
   "pygments_lexer": "ipython3",
   "version": "3.6.6"
  }
 },
 "nbformat": 4,
 "nbformat_minor": 2
}
